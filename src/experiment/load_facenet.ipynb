{
 "cells": [
  {
   "cell_type": "code",
   "execution_count": 1,
   "metadata": {},
   "outputs": [
    {
     "name": "stderr",
     "output_type": "stream",
     "text": [
      "Using TensorFlow backend.\n"
     ]
    }
   ],
   "source": [
    "from keras.models import load_model\n"
   ]
  },
  {
   "cell_type": "code",
   "execution_count": 2,
   "metadata": {},
   "outputs": [],
   "source": [
    "modelFile = '../model/keras/model/facenet_keras.h5'\n",
    "# faceNetModel = load_model(modelFile)"
   ]
  },
  {
   "cell_type": "code",
   "execution_count": 3,
   "metadata": {},
   "outputs": [
    {
     "ename": "NameError",
     "evalue": "name 'faceNetModel' is not defined",
     "output_type": "error",
     "traceback": [
      "\u001b[0;31m---------------------------------------------------------------------------\u001b[0m",
      "\u001b[0;31mNameError\u001b[0m                                 Traceback (most recent call last)",
      "\u001b[0;32m<ipython-input-3-390a6a446f61>\u001b[0m in \u001b[0;36m<module>\u001b[0;34m()\u001b[0m\n\u001b[0;32m----> 1\u001b[0;31m \u001b[0mfaceNetModel\u001b[0m\u001b[0;34m.\u001b[0m\u001b[0msummary\u001b[0m\u001b[0;34m(\u001b[0m\u001b[0;34m)\u001b[0m\u001b[0;34m\u001b[0m\u001b[0m\n\u001b[0m",
      "\u001b[0;31mNameError\u001b[0m: name 'faceNetModel' is not defined"
     ]
    }
   ],
   "source": [
    "faceNetModel.summary()"
   ]
  },
  {
   "cell_type": "code",
   "execution_count": 4,
   "metadata": {},
   "outputs": [
    {
     "name": "stdout",
     "output_type": "stream",
     "text": [
      "WARNING:tensorflow:From /home/shibin/.local/lib/python3.6/site-packages/tensorflow/python/framework/op_def_library.py:263: colocate_with (from tensorflow.python.framework.ops) is deprecated and will be removed in a future version.\n",
      "Instructions for updating:\n",
      "Colocations handled automatically by placer.\n",
      "WARNING:tensorflow:From /home/shibin/.local/lib/python3.6/site-packages/keras/backend/tensorflow_backend.py:3445: calling dropout (from tensorflow.python.ops.nn_ops) with keep_prob is deprecated and will be removed in a future version.\n",
      "Instructions for updating:\n",
      "Please use `rate` instead of `keep_prob`. Rate should be set to `rate = 1 - keep_prob`.\n"
     ]
    },
    {
     "name": "stderr",
     "output_type": "stream",
     "text": [
      "/home/shibin/.local/lib/python3.6/site-packages/keras/engine/saving.py:292: UserWarning: No training configuration found in save file: the model was *not* compiled. Compile it manually.\n",
      "  warnings.warn('No training configuration found in save file: '\n"
     ]
    }
   ],
   "source": [
    "facenet_model = load_model(modelFile)"
   ]
  },
  {
   "cell_type": "code",
   "execution_count": 5,
   "metadata": {},
   "outputs": [
    {
     "name": "stdout",
     "output_type": "stream",
     "text": [
      "Collecting git+https://www.github.com/keras-team/keras-contrib.git\n",
      "  Cloning https://www.github.com/keras-team/keras-contrib.git to /tmp/pip-req-build-wa2tqe89\n",
      "Requirement already satisfied (use --upgrade to upgrade): keras-contrib==2.0.8 from git+https://www.github.com/keras-team/keras-contrib.git in /home/shibin/softwares/anaconda2/envs/aiproject/lib/python3.6/site-packages\n",
      "Requirement already satisfied: keras in /home/shibin/.local/lib/python3.6/site-packages (from keras-contrib==2.0.8) (2.2.4)\n",
      "Requirement already satisfied: numpy>=1.9.1 in /home/shibin/.local/lib/python3.6/site-packages (from keras->keras-contrib==2.0.8) (1.15.0)\n",
      "Requirement already satisfied: scipy>=0.14 in /home/shibin/.local/lib/python3.6/site-packages (from keras->keras-contrib==2.0.8) (1.2.1)\n",
      "Requirement already satisfied: keras-applications>=1.0.6 in /home/shibin/.local/lib/python3.6/site-packages (from keras->keras-contrib==2.0.8) (1.0.7)\n",
      "Requirement already satisfied: h5py in /home/shibin/.local/lib/python3.6/site-packages (from keras->keras-contrib==2.0.8) (2.9.0)\n",
      "Requirement already satisfied: pyyaml in /home/shibin/.local/lib/python3.6/site-packages (from keras->keras-contrib==2.0.8) (5.1)\n",
      "Requirement already satisfied: six>=1.9.0 in /home/shibin/.local/lib/python3.6/site-packages (from keras->keras-contrib==2.0.8) (1.12.0)\n",
      "Requirement already satisfied: keras-preprocessing>=1.0.5 in /home/shibin/.local/lib/python3.6/site-packages (from keras->keras-contrib==2.0.8) (1.0.9)\n",
      "Building wheels for collected packages: keras-contrib\n",
      "  Running setup.py bdist_wheel for keras-contrib ... \u001b[?25ldone\n",
      "\u001b[?25h  Stored in directory: /tmp/pip-ephem-wheel-cache-qpdxk817/wheels/11/27/c8/4ed56de7b55f4f61244e2dc6ef3cdbaff2692527a2ce6502ba\n",
      "Successfully built keras-contrib\n",
      "\u001b[31mtwisted 18.7.0 requires PyHamcrest>=1.9.0, which is not installed.\u001b[0m\n",
      "\u001b[33mYou are using pip version 10.0.1, however version 19.2.3 is available.\n",
      "You should consider upgrading via the 'pip install --upgrade pip' command.\u001b[0m\n"
     ]
    }
   ],
   "source": [
    "!pip install git+https://www.github.com/keras-team/keras-contrib.git"
   ]
  },
  {
   "cell_type": "code",
   "execution_count": 55,
   "metadata": {},
   "outputs": [],
   "source": [
    "from keras_contrib.applications import DenseNet\n",
    "import keras.backend as K\n",
    "import keras \n",
    "from keras.models import Model\n",
    "from keras.layers import AveragePooling2D, Dense, Flatten,BatchNormalization, Input, Lambda, Concatenate\n",
    "import keras.optimizers as optimizer\n",
    "\n",
    "def loss_fun(label, pred, delta = 0.1):\n",
    "    ## label is of the form [first_pred, second_pred, last_pred]\n",
    "    #i label means the i is different from the rest of the pair\n",
    "    x,y,z  = pred[0], pred[1], pred[2]\n",
    "    \n",
    "    ## y and z is similar\n",
    "    if label == 1:\n",
    "        return K.maximum(0.0, K.square(y-z) - K.square(y-x) + delta) + K.maximum(0.0, K.square(y-z) - K.square(z- x) + delta) \n",
    "    elif label == 2:\n",
    "        return K.maximum(0.0, K.square(x-z) - K.square( x- y) + delta) + K.maximum(0.0, K.square(x - z) - K.square(y- z) + delta)\n",
    "    \n",
    "    else:\n",
    "        return K.maximum(0.0, K.square(x- y) - K.square( x -z) + delta) + K.maximum(0.0, K.square(x- y) - K.square( y- z ) + delta)\n",
    "    \n",
    "        \n",
    "def accuracy_c(y_true, y_pred):\n",
    "    s = loss_fun(K.cast(y_true, 'int32'), y_pred)\n",
    "    return K.equal(s, 0.0)\n",
    "        \n",
    "        \n",
    "    \n",
    "    \n",
    "def create_new_model(input_shape):\n",
    "#     facenet_model = load_model(modelFile)\n",
    "    inputs = Input(shape=input_shape)\n",
    "    #i = facenet_model(inputs)\n",
    "    #print(facenet_model.get_input_at(0).shape)\n",
    "    model1 = Model(input=facenet_model.get_input_at(0) , output = facenet_model.get_layer('add_15').output)\n",
    "    \n",
    "    inter_shape =  model1.output_shape[1:]\n",
    "    print(inter_shape)\n",
    "    #model2 = Model(input=model1.input1, outputs = inter_layer);\n",
    "    #inter_shape = \n",
    "    print(inter_shape)\n",
    "    dense = DenseNet(\n",
    "                     input_shape = inter_shape, nb_filter = 600, include_top = False,  depth = 1, nb_dense_block = 2, growth_rate = 32)(model1.output)\n",
    "    #d.layers.pop()\n",
    "    #d.layers.pop()\n",
    "    #d.layers.pop()\n",
    "    #d = d.layers.pop()\n",
    "    #dense.summary()\n",
    "    #model = d\n",
    "    #model.summary()\n",
    "    x = AveragePooling2D(pool_size=(4,4), name='cutome_avg_pool_1')(dense)\n",
    "    x = Flatten(name  = 'cutome_flatten_2')(x)\n",
    "    x = Dense(512, activation='relu', name = 'custome_dense_dense_3')(x)\n",
    "    x = BatchNormalization(name='cutome_batch_normalization_4')(x)\n",
    "    x = Dense(16, activation='relu', name = 'custome_dense_5')(x)\n",
    "    #x = Dense(1, activation='relu', name = 'custome_dense_output_1')(x)\n",
    "    x = Lambda(lambda  x: K.l2_normalize(x,axis=1), name = 'custome_l2_normalize_6')(x)\n",
    "    #fin = d(inter_layer.output)\n",
    "    \n",
    "    model = Model(inputs=[model1.input], outputs=x)\n",
    "    input_1 = Input( shape = input_shape)\n",
    "    input_2 = Input( shape = input_shape)\n",
    "    input_3 = Input( shape = input_shape)\n",
    "    \n",
    "    l1 = model(input_1)\n",
    "    l2 = model(input_2)\n",
    "    l3 = model(input_3)\n",
    "    \n",
    "    x = Concatenate()([l1, l2, l3])\n",
    "    final_model = Model(inputs=[input_1, input_2, input_3], outputs=x)\n",
    "    \n",
    "    \n",
    "    final_model.compile(optimizer=optimizer.Adam( lr = 0.0005),\n",
    "              loss= loss_fun, metrics = [accuracy_c] )\n",
    "    return final_model\n",
    "    "
   ]
  },
  {
   "cell_type": "code",
   "execution_count": 56,
   "metadata": {},
   "outputs": [
    {
     "name": "stderr",
     "output_type": "stream",
     "text": [
      "/home/shibin/softwares/anaconda2/envs/aiproject/lib/python3.6/site-packages/ipykernel_launcher.py:35: UserWarning: Update your `Model` call to the Keras 2 API: `Model(inputs=Tensor(\"in..., outputs=Tensor(\"ad...)`\n",
      "/home/shibin/.local/lib/python3.6/site-packages/keras_applications/imagenet_utils.py:279: UserWarning: This model usually expects 1 or 3 input channels. However, it was passed an input_shape with 896 input channels.\n",
      "  str(input_shape[-1]) + ' input channels.')\n"
     ]
    },
    {
     "name": "stdout",
     "output_type": "stream",
     "text": [
      "(8, 8, 896)\n",
      "(8, 8, 896)\n"
     ]
    }
   ],
   "source": [
    "embedding_model = create_new_model((160,160,3))"
   ]
  },
  {
   "cell_type": "code",
   "execution_count": 57,
   "metadata": {},
   "outputs": [
    {
     "name": "stdout",
     "output_type": "stream",
     "text": [
      "__________________________________________________________________________________________________\n",
      "Layer (type)                    Output Shape         Param #     Connected to                     \n",
      "==================================================================================================\n",
      "input_113 (InputLayer)          (None, 160, 160, 3)  0                                            \n",
      "__________________________________________________________________________________________________\n",
      "input_114 (InputLayer)          (None, 160, 160, 3)  0                                            \n",
      "__________________________________________________________________________________________________\n",
      "input_115 (InputLayer)          (None, 160, 160, 3)  0                                            \n",
      "__________________________________________________________________________________________________\n",
      "model_61 (Model)                (None, 16)           15142240    input_113[0][0]                  \n",
      "                                                                 input_114[0][0]                  \n",
      "                                                                 input_115[0][0]                  \n",
      "__________________________________________________________________________________________________\n",
      "concatenate_19 (Concatenate)    (None, 48)           0           model_61[1][0]                   \n",
      "                                                                 model_61[2][0]                   \n",
      "                                                                 model_61[3][0]                   \n",
      "==================================================================================================\n",
      "Total params: 15,142,240\n",
      "Trainable params: 15,123,296\n",
      "Non-trainable params: 18,944\n",
      "__________________________________________________________________________________________________\n"
     ]
    }
   ],
   "source": [
    "embedding_model.summary()"
   ]
  },
  {
   "cell_type": "code",
   "execution_count": null,
   "metadata": {},
   "outputs": [],
   "source": [
    "# example of loading an image with the Keras API\n",
    "import numpy as np\n",
    "from keras.preprocessing.image import load_img, img_to_array\n",
    "test_img = img_to_array(load_img('test.jpg'))\n",
    "#test_imgs = (test_img, test_img, test_img)\n",
    "inp = np.expand_dims(test_img, axis = 0)\n",
    "embedding_model.predict([inp, inp, inp])"
   ]
  },
  {
   "cell_type": "code",
   "execution_count": 71,
   "metadata": {},
   "outputs": [
    {
     "data": {
      "text/plain": [
       "[<tf.Tensor 'input_113:0' shape=(?, 160, 160, 3) dtype=float32>,\n",
       " <tf.Tensor 'input_114:0' shape=(?, 160, 160, 3) dtype=float32>,\n",
       " <tf.Tensor 'input_115:0' shape=(?, 160, 160, 3) dtype=float32>]"
      ]
     },
     "execution_count": 71,
     "metadata": {},
     "output_type": "execute_result"
    }
   ],
   "source": [
    "embedding_model.input"
   ]
  },
  {
   "cell_type": "code",
   "execution_count": 73,
   "metadata": {},
   "outputs": [
    {
     "data": {
      "text/plain": [
       "(1, 3, 160, 160, 3)"
      ]
     },
     "execution_count": 73,
     "metadata": {},
     "output_type": "execute_result"
    }
   ],
   "source": [
    "inp.shape"
   ]
  },
  {
   "cell_type": "code",
   "execution_count": null,
   "metadata": {},
   "outputs": [],
   "source": []
  }
 ],
 "metadata": {
  "kernelspec": {
   "display_name": "Python 3",
   "language": "python",
   "name": "python3"
  },
  "language_info": {
   "codemirror_mode": {
    "name": "ipython",
    "version": 3
   },
   "file_extension": ".py",
   "mimetype": "text/x-python",
   "name": "python",
   "nbconvert_exporter": "python",
   "pygments_lexer": "ipython3",
   "version": "3.6.6"
  }
 },
 "nbformat": 4,
 "nbformat_minor": 2
}
